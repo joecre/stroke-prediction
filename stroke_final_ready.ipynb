{
 "cells": [
  {
   "cell_type": "markdown",
   "metadata": {},
   "source": "# Stroke Prediction: Identifying Higher Risk Individuals\n\n\nStrokes can cause severe disability or death, but many cases are preventable with early action. Identifying who is at higher risk makes it possible to encourage lifestyle changes, closer monitoring, and timely medical care that could save lives.\n\nThis dataset includes health and demographic information for over five thousand people, a small fraction of whom have had a stroke. By analyzing these variables, I aim to uncover patterns linked to stroke and build models that can flag individuals who may need further screening.\n\nThis dataset includes:\n- Demographics (age, gender, residence type, work type)\n- Medical history (hypertension, heart disease)\n- Lifestyle indicators (smoking status, average glucose, BMI)\n- Target variable: whether the person has had a stroke\n\nI start by checking the structure of the dataset to confirm it loaded correctly and to get a sense of the available information.\n\nI predict stroke risk from simple health and demographic data. I keep the workflow short and readable so a reviewer can follow it in a few minutes.\n\n**Goal:** predict which people are more likely to have a stroke.\n\n**Why it matters:** even small gains in recall can help flag people for earlier screening.\n\n**Data prep (kept simple):**\n- Encoded categorical features.\n- Handled missing BMI with an indicator column.\n- Train and test split with stratification.\n\n**Models I tried:** Logistic Regression, Decision Tree, Random Forest, XGBoost. I keep Random Forest as the final model.\n\n**Key results (from my best run):**\n- Cross validation: F1 about 0.96, ROC AUC about 0.99.\n- Test set: accuracy about 0.92, recall for stroke about 0.16. I also tried threshold tuning to trade some precision for better recall.\n\n**What drives predictions:** age is strongest. Other useful factors include work type, residence type, BMI, heart disease, and glucose level.\n\n**Limitation:** the target is very imbalanced which makes recall harder."
  },
  {
   "cell_type": "code",
   "execution_count": 1,
   "id": "75c99ac1",
   "metadata": {},
   "outputs": [],
   "source": [
    "# Import key libraries for data analysis, visualization, and modeling\n",
    "import pandas as pd\n",
    "import numpy as np\n",
    "import matplotlib.pyplot as plt\n",
    "\n",
    "# Model selection, preprocessing, metrics\n",
    "from sklearn.model_selection import train_test_split, cross_val_score, GridSearchCV\n",
    "from sklearn.preprocessing import StandardScaler\n",
    "from sklearn.metrics import (\n",
    "    classification_report, roc_auc_score, roc_curve, precision_recall_curve,\n",
    "    confusion_matrix, average_precision_score, precision_recall_fscore_support\n",
    ")\n",
    "\n",
    "# Models\n",
    "from sklearn.linear_model import LogisticRegression\n",
    "from sklearn.tree import DecisionTreeClassifier\n",
    "from sklearn.ensemble import RandomForestClassifier\n",
    "from sklearn.inspection import permutation_importance\n",
    "\n",
    "# Oversampling for imbalanced data\n",
    "from imblearn.over_sampling import SMOTE\n",
    "\n",
    "# Gradient boosting model\n",
    "from xgboost import XGBClassifier\n",
    "\n",
    "# Pipeline for combining steps\n",
    "from imblearn.pipeline import Pipeline\n",
    "# Stratified K-Fold cross-validation\n",
    "from sklearn.model_selection import StratifiedKFold"
   ]
  },
  {
   "cell_type": "code",
   "execution_count": 2,
   "id": "462399be",
   "metadata": {},
   "outputs": [
    {
     "data": {
      "text/html": [
       "<div>\n",
       "<style scoped>\n",
       "    .dataframe tbody tr th:only-of-type {\n",
       "        vertical-align: middle;\n",
       "    }\n",
       "\n",
       "    .dataframe tbody tr th {\n",
       "        vertical-align: top;\n",
       "    }\n",
       "\n",
       "    .dataframe thead th {\n",
       "        text-align: right;\n",
       "    }\n",
       "</style>\n",
       "<table border=\"1\" class=\"dataframe\">\n",
       "  <thead>\n",
       "    <tr style=\"text-align: right;\">\n",
       "      <th></th>\n",
       "      <th>id</th>\n",
       "      <th>gender</th>\n",
       "      <th>age</th>\n",
       "      <th>hypertension</th>\n",
       "      <th>heart_disease</th>\n",
       "      <th>ever_married</th>\n",
       "      <th>work_type</th>\n",
       "      <th>Residence_type</th>\n",
       "      <th>avg_glucose_level</th>\n",
       "      <th>bmi</th>\n",
       "      <th>smoking_status</th>\n",
       "      <th>stroke</th>\n",
       "    </tr>\n",
       "  </thead>\n",
       "  <tbody>\n",
       "    <tr>\n",
       "      <th>0</th>\n",
       "      <td>9046</td>\n",
       "      <td>Male</td>\n",
       "      <td>67.0</td>\n",
       "      <td>0</td>\n",
       "      <td>1</td>\n",
       "      <td>Yes</td>\n",
       "      <td>Private</td>\n",
       "      <td>Urban</td>\n",
       "      <td>228.69</td>\n",
       "      <td>36.6</td>\n",
       "      <td>formerly smoked</td>\n",
       "      <td>1</td>\n",
       "    </tr>\n",
       "    <tr>\n",
       "      <th>1</th>\n",
       "      <td>51676</td>\n",
       "      <td>Female</td>\n",
       "      <td>61.0</td>\n",
       "      <td>0</td>\n",
       "      <td>0</td>\n",
       "      <td>Yes</td>\n",
       "      <td>Self-employed</td>\n",
       "      <td>Rural</td>\n",
       "      <td>202.21</td>\n",
       "      <td>NaN</td>\n",
       "      <td>never smoked</td>\n",
       "      <td>1</td>\n",
       "    </tr>\n",
       "    <tr>\n",
       "      <th>2</th>\n",
       "      <td>31112</td>\n",
       "      <td>Male</td>\n",
       "      <td>80.0</td>\n",
       "      <td>0</td>\n",
       "      <td>1</td>\n",
       "      <td>Yes</td>\n",
       "      <td>Private</td>\n",
       "      <td>Rural</td>\n",
       "      <td>105.92</td>\n",
       "      <td>32.5</td>\n",
       "      <td>never smoked</td>\n",
       "      <td>1</td>\n",
       "    </tr>\n",
       "    <tr>\n",
       "      <th>3</th>\n",
       "      <td>60182</td>\n",
       "      <td>Female</td>\n",
       "      <td>49.0</td>\n",
       "      <td>0</td>\n",
       "      <td>0</td>\n",
       "      <td>Yes</td>\n",
       "      <td>Private</td>\n",
       "      <td>Urban</td>\n",
       "      <td>171.23</td>\n",
       "      <td>34.4</td>\n",
       "      <td>smokes</td>\n",
       "      <td>1</td>\n",
       "    </tr>\n",
       "    <tr>\n",
       "      <th>4</th>\n",
       "      <td>1665</td>\n",
       "      <td>Female</td>\n",
       "      <td>79.0</td>\n",
       "      <td>1</td>\n",
       "      <td>0</td>\n",
       "      <td>Yes</td>\n",
       "      <td>Self-employed</td>\n",
       "      <td>Rural</td>\n",
       "      <td>174.12</td>\n",
       "      <td>24.0</td>\n",
       "      <td>never smoked</td>\n",
       "      <td>1</td>\n",
       "    </tr>\n",
       "  </tbody>\n",
       "</table>\n",
       "</div>"
      ],
      "text/plain": [
       "      id  gender   age  hypertension  heart_disease ever_married  \\\n",
       "0   9046    Male  67.0             0              1          Yes   \n",
       "1  51676  Female  61.0             0              0          Yes   \n",
       "2  31112    Male  80.0             0              1          Yes   \n",
       "3  60182  Female  49.0             0              0          Yes   \n",
       "4   1665  Female  79.0             1              0          Yes   \n",
       "\n",
       "       work_type Residence_type  avg_glucose_level   bmi   smoking_status  \\\n",
       "0        Private          Urban             228.69  36.6  formerly smoked   \n",
       "1  Self-employed          Rural             202.21   NaN     never smoked   \n",
       "2        Private          Rural             105.92  32.5     never smoked   \n",
       "3        Private          Urban             171.23  34.4           smokes   \n",
       "4  Self-employed          Rural             174.12  24.0     never smoked   \n",
       "\n",
       "   stroke  \n",
       "0       1  \n",
       "1       1  \n",
       "2       1  \n",
       "3       1  \n",
       "4       1  "
      ]
     },
     "metadata": {},
     "output_type": "display_data"
    },
    {
     "name": "stdout",
     "output_type": "stream",
     "text": [
      "<class 'pandas.core.frame.DataFrame'>\n",
      "RangeIndex: 5110 entries, 0 to 5109\n",
      "Data columns (total 12 columns):\n",
      " #   Column             Non-Null Count  Dtype  \n",
      "---  ------             --------------  -----  \n",
      " 0   id                 5110 non-null   int64  \n",
      " 1   gender             5110 non-null   object \n",
      " 2   age                5110 non-null   float64\n",
      " 3   hypertension       5110 non-null   int64  \n",
      " 4   heart_disease      5110 non-null   int64  \n",
      " 5   ever_married       5110 non-null   object \n",
      " 6   work_type          5110 non-null   object \n",
      " 7   Residence_type     5110 non-null   object \n",
      " 8   avg_glucose_level  5110 non-null   float64\n",
      " 9   bmi                4909 non-null   float64\n",
      " 10  smoking_status     5110 non-null   object \n",
      " 11  stroke             5110 non-null   int64  \n",
      "dtypes: float64(3), int64(4), object(5)\n",
      "memory usage: 479.2+ KB\n"
     ]
    }
   ],
   "source": [
    "# Load dataset\n",
    "df = pd.read_csv('C:/Users/joeyc/data/datasets/healthcare-dataset-stroke-data.csv')\n",
    "\n",
    "# Initial data exploration\n",
    "display(df.head())\n",
    "df.info()"
   ]
  },
  {
   "cell_type": "code",
   "execution_count": 3,
   "id": "4706e3f6",
   "metadata": {},
   "outputs": [],
   "source": [
    "# Drop ID column (not useful for modeling)\n",
    "df = df.drop(columns=[\"id\"])"
   ]
  },
  {
   "cell_type": "markdown",
   "id": "6ebe4b51",
   "metadata": {},
   "source": [
    "### Feature descriptions\n",
    "Here is what each column represents so the analysis stays clear.\n",
    "\n",
    "- gender: gender of the individual.\n",
    "- age: age in years.\n",
    "- hypertension: 1 if the person has hypertension, 0 otherwise.\n",
    "- heart_disease: 1 if the person has heart disease, 0 otherwise.\n",
    "- ever_married: marital status (Yes or No).\n",
    "- work_type: employment type (Private, Self-employed, Govt_job, children, Never_worked).\n",
    "- Residence_type: Urban or Rural.\n",
    "- avg_glucose_level: average blood glucose level.\n",
    "- bmi: body mass index.\n",
    "- smoking_status: smoking history (formerly smoked, never smoked, smokes, or unknown).\n",
    "- stroke: target variable, 1 if the person has had a stroke, 0 otherwise.\n"
   ]
  },
  {
   "cell_type": "markdown",
   "id": "ea3110dd",
   "metadata": {},
   "source": [
    "## Understanding class balance\n",
    "\n",
    "Before building models, I check how the target variable (`stroke`) is distributed. If one class is much larger, a model might appear accurate while missing most positive cases. Knowing this balance helps me choose the right evaluation metrics and plan how to address imbalance later.\n"
   ]
  },
  {
   "cell_type": "code",
   "execution_count": 4,
   "id": "7624bea0",
   "metadata": {},
   "outputs": [
    {
     "data": {
      "image/png": "[encoded data removed]",
      "text/plain": [
       "<Figure size 640x480 with 1 Axes>"
      ]
     },
     "metadata": {},
     "output_type": "display_data"
    }
   ],
   "source": [
    "# Check class balance\n",
    "class_counts = df[\"stroke\"].value_counts().sort_index()\n",
    "class_props = df[\"stroke\"].value_counts(normalize=True).sort_index()\n",
    "\n",
    "# Bar chart of class distribution\n",
    "plt.bar(class_counts.index.astype(str), class_counts.values, color=[\"skyblue\", \"salmon\"])\n",
    "\n",
    "# Add labels on top of bars\n",
    "for i, count in enumerate(class_counts.values):\n",
    "    plt.text(i, count + 50, f\"{count} ({class_props.values[i]:.1%})\", ha=\"center\")\n",
    "\n",
    "plt.xlabel(\"stroke (0 = no, 1 = yes)\")\n",
    "plt.ylabel(\"count\")\n",
    "plt.title(\"Stroke counts\")\n",
    "plt.show()"
   ]
  },
  {
   "cell_type": "markdown",
   "id": "a476d718",
   "metadata": {},
   "source": [
    "The chart confirms that the data is highly imbalanced: about 95% of people have not had a stroke, and only around 5% have. This matches real-world patterns, where strokes are rare but serious. In modeling, this imbalance means a model could reach over 90% accuracy by predicting \"no stroke\" for everyone, but it would fail to identify those most at risk. In healthcare, missing these cases can have serious consequences, so I will address the imbalance later to improve recall without losing too much precision.\n"
   ]
  },
  {
   "cell_type": "markdown",
   "id": "669f1c46",
   "metadata": {},
   "source": [
    "## Missing values in healthcare data\n",
    "\n",
    "Missing values are common in health records. I check which features have gaps so I can decide how to handle them before modeling."
   ]
  },
  {
   "cell_type": "code",
   "execution_count": 5,
   "id": "d5fbb518",
   "metadata": {},
   "outputs": [
    {
     "data": {
      "image/png": "[encoded data removed]",
      "text/plain": [
       "<Figure size 600x300 with 1 Axes>"
      ]
     },
     "metadata": {},
     "output_type": "display_data"
    },
    {
     "data": {
      "text/plain": [
       "bmi    201\n",
       "dtype: int64"
      ]
     },
     "execution_count": 5,
     "metadata": {},
     "output_type": "execute_result"
    }
   ],
   "source": [
    "# Check and visualize missing values\n",
    "na_counts = df.isna().sum().sort_values(ascending=False)\n",
    "na_counts = na_counts[na_counts > 0]  # show only columns with missing values\n",
    "\n",
    "plt.figure(figsize=(6,3))\n",
    "plt.bar(na_counts.index.astype(str), na_counts.values, color=\"orange\")\n",
    "plt.title(\"Missing Values per Column\")\n",
    "plt.ylabel(\"Missing count\")\n",
    "plt.xticks(rotation=45, ha=\"right\")\n",
    "plt.tight_layout()\n",
    "plt.show()\n",
    "\n",
    "na_counts"
   ]
  },
  {
   "cell_type": "markdown",
   "id": "91682be7",
   "metadata": {},
   "source": [
    "The only feature with missing values is BMI. Missing BMI entries can carry useful information, so I plan to create a flag called bmi_missing to mark them. To avoid data leakage, I will first split the dataset into training, validation, and test sets, then calculate the median BMI from the training set only. That median will then be used to fill missing BMI values in all three sets. This ensures that the imputation does not peek at data outside the training set."
   ]
  },
  {
   "cell_type": "markdown",
   "id": "3564ac53",
   "metadata": {},
   "source": "## Encoding features and preventing data leakage\n\nBefore modeling, I need to prepare the dataset:\n\n1. **Flag missing BMI values** - Missing BMI may itself be informative (e.g., people who skip certain measurements). I create a binary `bmi_missing` flag before encoding so the model can use this signal.\n\n2. **Encode categorical variables** - Machine learning models can't directly process text categories, so I convert them into dummy variables (one-hot encoding).\n\n3. **Split into train, validation, and test sets** - This ensures that the model is trained and tuned without \"peeking\" at evaluation data. I use **stratified splitting** to preserve the same stroke/no-stroke ratio in each set.\n\n4. **Impute BMI** - I fill missing BMI values using the **median from the training set only**. This prevents **data leakage** - I avoid using information from validation or test sets when filling in missing values.\n\nThe order of these steps matters: \n- Creating the `bmi_missing` flag before encoding ensures it becomes a usable feature. \n- Splitting before imputation ensures test data remains unseen until final evaluation.\n"
  },
  {
   "cell_type": "code",
   "execution_count": 6,
   "id": "ce71a285",
   "metadata": {},
   "outputs": [
    {
     "name": "stdout",
     "output_type": "stream",
     "text": [
      "Train size: (3270, 17)\n",
      "Validation size: (818, 17)\n",
      "Test size: (1022, 17)\n",
      "\n",
      "Train class proportions:\n",
      " stroke\n",
      "0    0.951\n",
      "1    0.049\n",
      "Name: proportion, dtype: float64\n",
      "\n",
      "Validation class proportions:\n",
      " stroke\n",
      "0    0.951\n",
      "1    0.049\n",
      "Name: proportion, dtype: float64\n",
      "\n",
      "Test class proportions:\n",
      " stroke\n",
      "0    0.951\n",
      "1    0.049\n",
      "Name: proportion, dtype: float64\n"
     ]
    }
   ],
   "source": [
    "# Prepare features and target with leakage prevention\n",
    "\n",
    "# 1. Flag missing BMI values so the model can learn from missingness\n",
    "df['bmi_missing'] = df['bmi'].isna().astype(int)\n",
    "\n",
    "# 2. One-hot encode categorical variables (target 'stroke' stays separate)\n",
    "categorical_cols = df.select_dtypes(include=['object']).columns\n",
    "df_encoded = pd.get_dummies(df, columns=categorical_cols, drop_first=True)\n",
    "\n",
    "# 3. Separate features (X) and target (y)\n",
    "X = df_encoded.drop('stroke', axis=1)\n",
    "y = df_encoded['stroke']\n",
    "\n",
    "# 4. First split into train_full and test (stratify to preserve class balance)\n",
    "X_train_full, X_test, y_train_full, y_test = train_test_split(\n",
    "    X, y, test_size=0.20, random_state=42, stratify=y\n",
    ")\n",
    "\n",
    "# 5. Then split train_full into train and validation (also stratified)\n",
    "X_train, X_val, y_train, y_val = train_test_split(\n",
    "    X_train_full, y_train_full, test_size=0.20, random_state=42, stratify=y_train_full\n",
    ")\n",
    "\n",
    "# 6. Impute BMI using training set median only (prevents leakage)\n",
    "bmi_median_train = X_train['bmi'].median()\n",
    "for d in (X_train, X_val, X_test):\n",
    "    d.loc[:, 'bmi'] = d['bmi'].fillna(bmi_median_train)\n",
    "\n",
    "# Quick size and class proportion checks\n",
    "def proportions(y):\n",
    "    return y.value_counts(normalize=True).rename('proportion').round(3)\n",
    "\n",
    "print('Train size:', X_train.shape)\n",
    "print('Validation size:', X_val.shape)\n",
    "print('Test size:', X_test.shape)\n",
    "\n",
    "print('\\nTrain class proportions:\\n', proportions(y_train))\n",
    "print('\\nValidation class proportions:\\n', proportions(y_val))\n",
    "print('\\nTest class proportions:\\n', proportions(y_test))\n"
   ]
  },
  {
   "cell_type": "markdown",
   "id": "ac52764d",
   "metadata": {},
   "source": [
    "The `bmi_missing` flag is now part of the encoded feature set. Missing BMI values have been filled with the **training set median**, keeping the validation and test sets untouched until evaluation. This ensures that any performance results are realistic and not inflated by leakage.\n"
   ]
  },
  {
   "cell_type": "markdown",
   "id": "f219db49",
   "metadata": {},
   "source": "## Handling class imbalance for model selection\nFor model comparison I apply SMOTE inside cross-validation, so each fold only sees synthetic examples generated from its own training split. This avoids leakage from resampling the full training set before CV.\nLater, for the final model fit, I'll train on a SMOTE-balanced version of the full training split and then evaluate once on the untouched test set."
  },
  {
   "cell_type": "code",
   "execution_count": 7,
   "id": "2827d58f",
   "metadata": {},
   "outputs": [
    {
     "name": "stderr",
     "output_type": "stream",
     "text": [
      "c:\\Users\\joeyc\\anaconda3\\Lib\\site-packages\\joblib\\externals\\loky\\backend\\context.py:136: UserWarning: Could not find the number of physical cores for the following reason:\n",
      "[WinError 2] The system cannot find the file specified\n",
      "Returning the number of logical cores instead. You can silence this warning by setting LOKY_MAX_CPU_COUNT to the number of cores you want to use.\n",
      "  warnings.warn(\n",
      "  File \"c:\\Users\\joeyc\\anaconda3\\Lib\\site-packages\\joblib\\externals\\loky\\backend\\context.py\", line 257, in _count_physical_cores\n",
      "    cpu_info = subprocess.run(\n",
      "               ^^^^^^^^^^^^^^^\n",
      "  File \"c:\\Users\\joeyc\\anaconda3\\Lib\\subprocess.py\", line 548, in run\n",
      "    with Popen(*popenargs, **kwargs) as process:\n",
      "         ^^^^^^^^^^^^^^^^^^^^^^^^^^^\n",
      "  File \"c:\\Users\\joeyc\\anaconda3\\Lib\\subprocess.py\", line 1026, in __init__\n",
      "    self._execute_child(args, executable, preexec_fn, close_fds,\n",
      "  File \"c:\\Users\\joeyc\\anaconda3\\Lib\\subprocess.py\", line 1538, in _execute_child\n",
      "    hp, ht, pid, tid = _winapi.CreateProcess(executable, args,\n",
      "                       ^^^^^^^^^^^^^^^^^^^^^^^^^^^^^^^^^^^^^^^\n"
     ]
    },
    {
     "data": {
      "text/plain": [
       "{'Logistic Regression (scaled)': {'F1': 0.209, 'ROC AUC': 0.763},\n",
       " 'Decision Tree': {'F1': 0.158, 'ROC AUC': 0.571},\n",
       " 'Random Forest': {'F1': 0.151, 'ROC AUC': 0.796},\n",
       " 'XGBoost': {'F1': 0.139, 'ROC AUC': 0.77}}"
      ]
     },
     "execution_count": 7,
     "metadata": {},
     "output_type": "execute_result"
    }
   ],
   "source": [
    "# Common CV object for reproducibility\n",
    "cv = StratifiedKFold(n_splits=5, shuffle=True, random_state=42)\n",
    "\n",
    "# Define pipelines: SMOTE occurs inside each CV fold\n",
    "pipe_lr = Pipeline(steps=[\n",
    "    (\"smote\", SMOTE(random_state=42)),\n",
    "    (\"scaler\", StandardScaler(with_mean=False)),  # with_mean=False safe for sparse dummies\n",
    "    (\"clf\", LogisticRegression(max_iter=1000, random_state=42))\n",
    "])\n",
    "\n",
    "pipe_dt = Pipeline(steps=[\n",
    "    (\"smote\", SMOTE(random_state=42)),\n",
    "    (\"clf\", DecisionTreeClassifier(random_state=42))\n",
    "])\n",
    "\n",
    "pipe_rf = Pipeline(steps=[\n",
    "    (\"smote\", SMOTE(random_state=42)),\n",
    "    (\"clf\", RandomForestClassifier(random_state=42))\n",
    "])\n",
    "\n",
    "pipe_xgb = Pipeline(steps=[\n",
    "    (\"smote\", SMOTE(random_state=42)),\n",
    "    (\"clf\", XGBClassifier(\n",
    "        n_estimators=300,\n",
    "        max_depth=4,\n",
    "        learning_rate=0.1,\n",
    "        subsample=0.9,\n",
    "        colsample_bytree=0.9,\n",
    "        random_state=42,\n",
    "        eval_metric=\"logloss\",\n",
    "        n_jobs=-1\n",
    "    ))\n",
    "])\n",
    "\n",
    "def cv_scores(pipe, X, y, cv):\n",
    "    f1 = cross_val_score(pipe, X, y, cv=cv, scoring=\"f1\").mean()\n",
    "    auc = cross_val_score(pipe, X, y, cv=cv, scoring=\"roc_auc\").mean()\n",
    "    return round(f1, 3), round(auc, 3)\n",
    "\n",
    "scores = {}\n",
    "for name, pipe in [\n",
    "    (\"Logistic Regression (scaled)\", pipe_lr),\n",
    "    (\"Decision Tree\", pipe_dt),\n",
    "    (\"Random Forest\", pipe_rf),\n",
    "    (\"XGBoost\", pipe_xgb),\n",
    "]:\n",
    "    f1, auc = cv_scores(pipe, X_train, y_train, cv)\n",
    "    scores[name] = {\"F1\": f1, \"ROC AUC\": auc}\n",
    "\n",
    "scores\n"
   ]
  },
  {
   "cell_type": "markdown",
   "id": "038eded2",
   "metadata": {},
   "source": "After applying SMOTE, the training set now has an equal number of stroke and non-stroke cases. This means the model will see the same amount of data for both classes during training.Random Forest again has the strongest cross-validated F1 and ROC AUC, with XGBoost close behind. Because SMOTE and scaling were applied inside CV, these scores are free of resampling and preprocessing leakage."
  },
  {
   "cell_type": "code",
   "execution_count": 8,
   "id": "b9346378",
   "metadata": {},
   "outputs": [
    {
     "name": "stdout",
     "output_type": "stream",
     "text": [
      "Resampled for standalone sections: (6222, 17)\n",
      "Positive rate after SMOTE: 0.5\n"
     ]
    }
   ],
   "source": [
    "# Ensure X_train_res / y_train_res exist for the standalone sections only\n",
    "if 'X_train_res' not in globals() or 'y_train_res' not in globals():\n",
    "    smote_tmp = SMOTE(random_state=42)\n",
    "    X_train_res, y_train_res = smote_tmp.fit_resample(X_train.copy(), y_train.copy())\n",
    "    print(\"Resampled for standalone sections:\", X_train_res.shape)\n",
    "    print(\"Positive rate after SMOTE:\", round(float(y_train_res.mean()), 3))\n"
   ]
  },
  {
   "cell_type": "code",
   "execution_count": 9,
   "id": "8603fdfc",
   "metadata": {},
   "outputs": [],
   "source": [
    "# Create a flag for missing BMI\n",
    "df['bmi_missing'] = df['bmi'].isna().astype(int)\n",
    "\n",
    "# Fill missing BMI with median so the model can process it\n",
    "bmi_median = df['bmi'].median()\n",
    "df['bmi'] = df['bmi'].fillna(bmi_median)"
   ]
  },
  {
   "cell_type": "markdown",
   "id": "452efae1",
   "metadata": {},
   "source": [
    "### Logistic Regression\n",
    "Logistic Regression is a simple linear model that works best when features are scaled. I scale the inputs and then fit the model, evaluating it with 5-fold stratified cross-validation on the SMOTE-balanced training set."
   ]
  },
  {
   "cell_type": "code",
   "execution_count": 10,
   "id": "5b8c9b76",
   "metadata": {},
   "outputs": [
    {
     "name": "stdout",
     "output_type": "stream",
     "text": [
      "Logistic Regression (scaled) - F1: 0.878\n",
      "Logistic Regression (scaled) - ROC AUC: 0.952\n"
     ]
    }
   ],
   "source": [
    "# Scale the training features\n",
    "scaler = StandardScaler()\n",
    "X_train_res_scaled = scaler.fit_transform(X_train_res)\n",
    "\n",
    "# Logistic Regression\n",
    "log_reg = LogisticRegression(max_iter=1000, random_state=42)\n",
    "\n",
    "f1_lr = cross_val_score(log_reg, X_train_res_scaled, y_train_res, cv=5, scoring=\"f1\").mean()\n",
    "auc_lr = cross_val_score(log_reg, X_train_res_scaled, y_train_res, cv=5, scoring=\"roc_auc\").mean()\n",
    "\n",
    "print(\"Logistic Regression (scaled) - F1:\", round(f1_lr, 3))\n",
    "print(\"Logistic Regression (scaled) - ROC AUC:\", round(auc_lr, 3))"
   ]
  },
  {
   "cell_type": "markdown",
   "id": "2515b186",
   "metadata": {},
   "source": [
    "### Decision Tree\n",
    "\n",
    "A Decision Tree splits the data into groups using simple rules and does not need scaling. I train it on the SMOTE-balanced training set and report the average F1 and ROC AUC using 5-fold cross-validation."
   ]
  },
  {
   "cell_type": "code",
   "execution_count": 11,
   "id": "0eefb8e5",
   "metadata": {},
   "outputs": [
    {
     "name": "stdout",
     "output_type": "stream",
     "text": [
      "Decision Tree - F1: 0.926\n",
      "Decision Tree - ROC AUC: 0.925\n"
     ]
    }
   ],
   "source": [
    "dt = DecisionTreeClassifier(random_state=42)\n",
    "\n",
    "f1_dt = cross_val_score(dt, X_train_res, y_train_res, cv=5, scoring=\"f1\").mean()\n",
    "auc_dt = cross_val_score(dt, X_train_res, y_train_res, cv=5, scoring=\"roc_auc\").mean()\n",
    "\n",
    "print(\"Decision Tree - F1:\", round(f1_dt, 3))\n",
    "print(\"Decision Tree - ROC AUC:\", round(auc_dt, 3))"
   ]
  },
  {
   "cell_type": "markdown",
   "id": "9d98e55f",
   "metadata": {},
   "source": [
    "### Random Forest\n",
    "\n",
    "A Random Forest builds many trees and averages their predictions. It does not need scaling. I train it on the SMOTE-balanced training set and report the average F1 and ROC AUC using 5-fold cross-validation."
   ]
  },
  {
   "cell_type": "code",
   "execution_count": 12,
   "id": "80a6a0b9",
   "metadata": {},
   "outputs": [
    {
     "name": "stdout",
     "output_type": "stream",
     "text": [
      "Random Forest - F1: 0.959\n",
      "Random Forest - ROC AUC: 0.993\n"
     ]
    }
   ],
   "source": [
    "rf = RandomForestClassifier(random_state=42)\n",
    "\n",
    "f1_rf = cross_val_score(rf, X_train_res, y_train_res, cv=5, scoring=\"f1\").mean()\n",
    "auc_rf = cross_val_score(rf, X_train_res, y_train_res, cv=5, scoring=\"roc_auc\").mean()\n",
    "\n",
    "print(\"Random Forest - F1:\", round(f1_rf, 3))\n",
    "print(\"Random Forest - ROC AUC:\", round(auc_rf, 3))"
   ]
  },
  {
   "cell_type": "code",
   "execution_count": 13,
   "id": "43f75f8f",
   "metadata": {},
   "outputs": [
    {
     "name": "stdout",
     "output_type": "stream",
     "text": [
      "XGBoost - F1: 0.951\n",
      "XGBoost - ROC AUC: 0.99\n"
     ]
    }
   ],
   "source": [
    "# Add baseline XGBoost with 5-fold CV on the SMOTE-balanced training set\n",
    "xgb_base = XGBClassifier(\n",
    "    n_estimators=300,\n",
    "    max_depth=4,\n",
    "    learning_rate=0.1,\n",
    "    subsample=0.9,\n",
    "    colsample_bytree=0.9,\n",
    "    random_state=42,\n",
    "    eval_metric=\"logloss\",\n",
    "    n_jobs=-1\n",
    ")\n",
    "\n",
    "f1_xgb = cross_val_score(xgb_base, X_train_res, y_train_res, cv=5, scoring=\"f1\").mean()\n",
    "auc_xgb = cross_val_score(xgb_base, X_train_res, y_train_res, cv=5, scoring=\"roc_auc\").mean()\n",
    "\n",
    "print(\"XGBoost - F1:\", round(f1_xgb, 3))\n",
    "print(\"XGBoost - ROC AUC:\", round(auc_xgb, 3))\n"
   ]
  },
  {
   "cell_type": "markdown",
   "id": "cebbf2b2",
   "metadata": {},
   "source": [
    "### Quick comparison\n",
    "I compare the average scores to see which model performs best before tuning."
   ]
  },
  {
   "cell_type": "code",
   "execution_count": 14,
   "id": "a42d7316",
   "metadata": {},
   "outputs": [
    {
     "data": {
      "text/plain": [
       "{'Logistic Regression (scaled)': {'F1': 0.878, 'ROC AUC': 0.952},\n",
       " 'Decision Tree': {'F1': 0.926, 'ROC AUC': 0.925},\n",
       " 'Random Forest': {'F1': 0.959, 'ROC AUC': 0.993},\n",
       " 'XGBoost': {'F1': 0.951, 'ROC AUC': 0.99}}"
      ]
     },
     "execution_count": 14,
     "metadata": {},
     "output_type": "execute_result"
    }
   ],
   "source": [
    "# Generate a quick comparison table\n",
    "results = {\n",
    "    \"Logistic Regression (scaled)\": {\"F1\": round(f1_lr, 3), \"ROC AUC\": round(auc_lr, 3)},\n",
    "    \"Decision Tree\": {\"F1\": round(f1_dt, 3), \"ROC AUC\": round(auc_dt, 3)},\n",
    "    \"Random Forest\": {\"F1\": round(f1_rf, 3), \"ROC AUC\": round(auc_rf, 3)},\n",
    "    \"XGBoost\": {\"F1\": round(f1_xgb, 3), \"ROC AUC\": round(auc_xgb, 3)}\n",
    "}\n",
    "results\n"
   ]
  },
  {
   "cell_type": "markdown",
   "id": "db3a2ded",
   "metadata": {},
   "source": [
    "Random Forest achieved the highest F1 score and ROC AUC, with XGBoost close behind. Logistic Regression and Decision Tree both performed reasonably well but fell short of the ensemble methods.\n",
    "\n",
    "Given its top performance in this baseline comparison, I will focus first on tuning the Random Forest to see if it can improve further."
   ]
  },
  {
   "cell_type": "markdown",
   "id": "7bc87a3e",
   "metadata": {},
   "source": [
    "### Tuning the Random Forest\n",
    "Since the Random Forest achieved the highest baseline F1 and ROC AUC, it is my top candidate for further improvement. The goal of tuning is to adjust its key hyperparameters, such as the number of trees, maximum tree depth, and minimum samples per split or leaf, to find a configuration that balances precision and recall even better.\n",
    "\n",
    "I will use GridSearchCV with 5-fold cross-validation on the SMOTE-balanced training set. This approach tests every combination of the chosen parameter values and selects the one with the highest average F1 score across folds.\n"
   ]
  },
  {
   "cell_type": "code",
   "execution_count": 15,
   "id": "967f6636",
   "metadata": {},
   "outputs": [
    {
     "name": "stdout",
     "output_type": "stream",
     "text": [
      "Best params: {'max_depth': None, 'min_samples_leaf': 1, 'min_samples_split': 2, 'n_estimators': 100}\n",
      "Best CV F1: 0.959\n"
     ]
    }
   ],
   "source": [
    "# Hyperparameter tuning for Random Forest  \n",
    "param_grid = {\n",
    "    \"n_estimators\": [100, 300],\n",
    "    \"max_depth\": [None, 10, 20],\n",
    "    \"min_samples_split\": [2, 10],\n",
    "    \"min_samples_leaf\": [1, 5]\n",
    "}\n",
    "\n",
    "grid = GridSearchCV(\n",
    "    RandomForestClassifier(random_state=42),\n",
    "    param_grid=param_grid,\n",
    "    scoring=\"f1\",\n",
    "    cv=5,\n",
    "    n_jobs=-1\n",
    ")\n",
    "\n",
    "grid.fit(X_train_res, y_train_res)\n",
    "\n",
    "print(\"Best params:\", grid.best_params_)\n",
    "print(\"Best CV F1:\", round(grid.best_score_, 3))"
   ]
  },
  {
   "cell_type": "markdown",
   "id": "4085227b",
   "metadata": {},
   "source": [
    "### Final model on the training data and test set evaluation\n",
    "I fit the tuned Random Forest (100 trees, no maximum depth, default splitting rules) on the SMOTE-balanced training data and evaluated it on the original test set.\n",
    "\n",
    "The model achieved high accuracy and strong performance in identifying non-stroke cases (class 0). However, recall for stroke cases (class 1) remained limited, meaning some positive cases were still missed. The ROC AUC of 0.785 indicates the model can separate the classes better than chance, but predicting the minority class is still challenging due to the imbalance.\n"
   ]
  },
  {
   "cell_type": "code",
   "execution_count": 16,
   "id": "fec1845e",
   "metadata": {},
   "outputs": [
    {
     "name": "stdout",
     "output_type": "stream",
     "text": [
      "              precision    recall  f1-score   support\n",
      "\n",
      "           0       0.96      0.96      0.96       972\n",
      "           1       0.19      0.18      0.18        50\n",
      "\n",
      "    accuracy                           0.92      1022\n",
      "   macro avg       0.57      0.57      0.57      1022\n",
      "weighted avg       0.92      0.92      0.92      1022\n",
      "\n",
      "Test ROC AUC: 0.786\n"
     ]
    }
   ],
   "source": [
    "# Create a SMOTE-balanced training set for the final fit\n",
    "smote_final = SMOTE(random_state=42)\n",
    "X_train_res, y_train_res = smote_final.fit_resample(X_train, y_train)\n",
    "\n",
    "\n",
    "# Evaluate the best model on the test set\n",
    "best_rf = grid.best_estimator_\n",
    "best_rf.fit(X_train_res, y_train_res)\n",
    "\n",
    "y_pred = best_rf.predict(X_test)\n",
    "y_proba = best_rf.predict_proba(X_test)[:, 1]\n",
    "\n",
    "print(classification_report(y_test, y_pred))\n",
    "print(\"Test ROC AUC:\", round(roc_auc_score(y_test, y_proba), 3))"
   ]
  },
  {
   "cell_type": "markdown",
   "id": "2f9b28fe",
   "metadata": {},
   "source": [
    "On the test set, the tuned Random Forest kept a high overall accuracy of 92% and performed very well at identifying non-stroke cases (class 0) with a recall of 0.96. However, recall for stroke cases (class 1) was only 0.18, meaning the model correctly caught just 18% of actual strokes. The ROC AUC of 0.786 shows it still has some ability to separate the two classes, but detecting the positive class remains challenging. This gap between cross-validation results and test performance highlights how strongly the class imbalance affects stroke prediction and suggests that additional steps are needed to improve recall.\n",
    "\n"
   ]
  },
  {
   "cell_type": "markdown",
   "id": "a02d22ae",
   "metadata": {},
   "source": [
    "### Feature importance from the final model\n",
    "\n",
    "I check which features the final Random Forest relies on so I can explain what drives its predictions. I compute importances from the tuned Random Forest so the plot matches my final choice.\n"
   ]
  },
  {
   "cell_type": "code",
   "execution_count": 17,
   "id": "653b3a23",
   "metadata": {},
   "outputs": [
    {
     "data": {
      "text/plain": [
       "age                            0.104471\n",
       "smoking_status_never smoked    0.022869\n",
       "work_type_Private              0.019153\n",
       "work_type_Self-employed        0.014763\n",
       "avg_glucose_level              0.014055\n",
       "ever_married_Yes               0.009798\n",
       "hypertension                   0.008272\n",
       "heart_disease                  0.004501\n",
       "work_type_children             0.002363\n",
       "bmi                            0.002164\n",
       "Residence_type_Urban           0.001622\n",
       "smoking_status_smokes          0.000771\n",
       "gender_Other                   0.000000\n",
       "work_type_Never_worked         0.000000\n",
       "gender_Male                   -0.004257\n",
       "dtype: float64"
      ]
     },
     "execution_count": 17,
     "metadata": {},
     "output_type": "execute_result"
    }
   ],
   "source": [
    "result = permutation_importance(\n",
    "    best_rf, X_val, y_val,\n",
    "    n_repeats=10, random_state=42, scoring=\"f1\"\n",
    ")\n",
    "\n",
    "perm_imp = pd.Series(result.importances_mean, index=X_val.columns).sort_values(ascending=False)\n",
    "perm_imp.head(15)"
   ]
  },
  {
   "cell_type": "code",
   "execution_count": 18,
   "id": "b5c788fa",
   "metadata": {},
   "outputs": [
    {
     "data": {
      "image/png": "[encoded data removed]",
      "text/plain": [
       "<Figure size 700x400 with 1 Axes>"
      ]
     },
     "metadata": {},
     "output_type": "display_data"
    },
    {
     "data": {
      "text/plain": [
       "age                            0.104471\n",
       "smoking_status_never smoked    0.022869\n",
       "work_type_Private              0.019153\n",
       "work_type_Self-employed        0.014763\n",
       "avg_glucose_level              0.014055\n",
       "ever_married_Yes               0.009798\n",
       "hypertension                   0.008272\n",
       "heart_disease                  0.004501\n",
       "work_type_children             0.002363\n",
       "bmi                            0.002164\n",
       "dtype: float64"
      ]
     },
     "execution_count": 18,
     "metadata": {},
     "output_type": "execute_result"
    }
   ],
   "source": [
    "# Plot top 10 permutation importances on validation\n",
    "\n",
    "top10 = perm_imp.head(10)\n",
    "plt.figure(figsize=(7,4))\n",
    "top10.plot(kind=\"bar\")\n",
    "plt.title(\"Top 10 permutation importances (validation set, Random Forest)\")\n",
    "plt.ylabel(\"mean decrease in F1\")\n",
    "plt.xlabel(\"\")\n",
    "plt.tight_layout()\n",
    "plt.show()\n",
    "\n",
    "top10\n"
   ]
  },
  {
   "cell_type": "markdown",
   "id": "bc49a7b8",
   "metadata": {},
   "source": [
    "### Feature Importance (Permutation Method)\n",
    "\n",
    "I use permutation importance on my tuned Random Forest model to see which features the model relies on. I run it on the validation set and measure the drop in F1 when I shuffle each feature. Bigger drops mean the feature matters more. I keep the test set untouched.\n",
    "\n",
    "The plot below shows the top 10 features by mean decrease in F1.\n",
    "\n",
    "Based on the results from this run, the main drivers are age, residence type (urban), and work type (self-employed). BMI and heart disease also contribute. This lines up with my earlier exploration, so the model behavior looks sensible for screening.\n"
   ]
  },
  {
   "cell_type": "markdown",
   "id": "395c5988",
   "metadata": {},
   "source": [
    "### Threshold adjustment for recall\n",
    "\n",
    "I choose the decision threshold on the validation set, not the test set.\n",
    "By default, predictions use a 0.50 probability threshold. I also check a lower threshold to see if recall for stroke improves."
   ]
  },
  {
   "cell_type": "code",
   "execution_count": 19,
   "id": "1fb11e4d",
   "metadata": {},
   "outputs": [],
   "source": [
    "# Get validation probabilities from the best Random Forest\n",
    "y_proba_val = best_rf.predict_proba(X_val)[:, 1]"
   ]
  },
  {
   "cell_type": "code",
   "execution_count": 20,
   "id": "ace966e0",
   "metadata": {},
   "outputs": [
    {
     "name": "stdout",
     "output_type": "stream",
     "text": [
      "Threshold 0.50 on validation\n",
      "              precision    recall  f1-score   support\n",
      "\n",
      "           0       0.96      0.95      0.95       778\n",
      "           1       0.16      0.20      0.18        40\n",
      "\n",
      "    accuracy                           0.91       818\n",
      "   macro avg       0.56      0.57      0.57       818\n",
      "weighted avg       0.92      0.91      0.92       818\n",
      "\n",
      "Threshold 0.40 on validation\n",
      "              precision    recall  f1-score   support\n",
      "\n",
      "           0       0.96      0.93      0.95       778\n",
      "           1       0.17      0.28      0.21        40\n",
      "\n",
      "    accuracy                           0.90       818\n",
      "   macro avg       0.56      0.60      0.58       818\n",
      "weighted avg       0.92      0.90      0.91       818\n",
      "\n",
      "Threshold 0.30 on validation\n",
      "              precision    recall  f1-score   support\n",
      "\n",
      "           0       0.96      0.89      0.93       778\n",
      "           1       0.14      0.35      0.20        40\n",
      "\n",
      "    accuracy                           0.87       818\n",
      "   macro avg       0.55      0.62      0.56       818\n",
      "weighted avg       0.92      0.87      0.89       818\n",
      "\n",
      "Threshold 0.25 on validation\n",
      "              precision    recall  f1-score   support\n",
      "\n",
      "           0       0.96      0.86      0.91       778\n",
      "           1       0.12      0.38      0.18        40\n",
      "\n",
      "    accuracy                           0.84       818\n",
      "   macro avg       0.54      0.62      0.55       818\n",
      "weighted avg       0.92      0.84      0.87       818\n",
      "\n",
      "Threshold 0.20 on validation\n",
      "              precision    recall  f1-score   support\n",
      "\n",
      "           0       0.97      0.82      0.89       778\n",
      "           1       0.11      0.42      0.18        40\n",
      "\n",
      "    accuracy                           0.80       818\n",
      "   macro avg       0.54      0.62      0.53       818\n",
      "weighted avg       0.92      0.80      0.85       818\n",
      "\n"
     ]
    }
   ],
   "source": [
    "# Scan a few thresholds on the validation set to see precision/recall/F1 tradeoffs\n",
    "for t in [0.50, 0.40, 0.30, 0.25, 0.20]:\n",
    "    y_pred_val = (y_proba_val >= t).astype(int)\n",
    "    print(f\"Threshold {t:.2f} on validation\")\n",
    "    print(classification_report(y_val, y_pred_val))\n"
   ]
  },
  {
   "cell_type": "markdown",
   "id": "465c9af5",
   "metadata": {},
   "source": [
    "I pick 0.25 as the decision threshold on validation because it gives the highest F1 for the positive class here."
   ]
  },
  {
   "cell_type": "code",
   "execution_count": 21,
   "id": "52814c8c",
   "metadata": {},
   "outputs": [
    {
     "name": "stdout",
     "output_type": "stream",
     "text": [
      "Chosen threshold (validation): 0.450\n",
      "Validation precision: 0.193\n",
      "Validation recall:    0.275\n",
      "Validation F1:        0.227\n"
     ]
    }
   ],
   "source": [
    "# Choose a single decision threshold on the validation set by best F1\n",
    "prec, rec, thr = precision_recall_curve(y_val, y_proba_val)\n",
    "f1 = 2 * (prec * rec) / (prec + rec + 1e-9)\n",
    "\n",
    "best_idx = np.argmax(f1[:-1])  # thresholds array is len-1\n",
    "best_t = float(thr[best_idx])\n",
    "\n",
    "print(f\"Chosen threshold (validation): {best_t:.3f}\")\n",
    "print(f\"Validation precision: {prec[best_idx]:.3f}\")\n",
    "print(f\"Validation recall:    {rec[best_idx]:.3f}\")\n",
    "print(f\"Validation F1:        {f1[best_idx]:.3f}\")"
   ]
  },
  {
   "cell_type": "code",
   "execution_count": 22,
   "id": "f836cb62",
   "metadata": {},
   "outputs": [
    {
     "data": {
      "image/png": "[encoded data removed]",
      "text/plain": [
       "<Figure size 600x400 with 1 Axes>"
      ]
     },
     "metadata": {},
     "output_type": "display_data"
    }
   ],
   "source": [
    "# Plot the validation precision-recall curve and mark the chosen point\n",
    "ap = average_precision_score(y_val, y_proba_val)\n",
    "\n",
    "plt.figure(figsize=(6,4))\n",
    "plt.plot(rec, prec, linewidth=2)\n",
    "plt.scatter(rec[best_idx], prec[best_idx], s=60)\n",
    "plt.xlabel(\"recall\")\n",
    "plt.ylabel(\"precision\")\n",
    "plt.title(f\"Validation precision recall curve (AP = {ap:.3f})\")\n",
    "plt.tight_layout()\n",
    "plt.show()"
   ]
  },
  {
   "cell_type": "markdown",
   "id": "c2f63dbf",
   "metadata": {},
   "source": [
    "This curve shows how precision and recall trade off on validation. The dot marks the threshold I chose because it balances recall and precision for screening."
   ]
  },
  {
   "cell_type": "code",
   "execution_count": 23,
   "id": "71d68dcd",
   "metadata": {},
   "outputs": [
    {
     "name": "stdout",
     "output_type": "stream",
     "text": [
      "Test report at chosen threshold\n",
      "              precision    recall  f1-score   support\n",
      "\n",
      "           0       0.96      0.95      0.95       972\n",
      "           1       0.17      0.20      0.18        50\n",
      "\n",
      "    accuracy                           0.91      1022\n",
      "   macro avg       0.56      0.57      0.57      1022\n",
      "weighted avg       0.92      0.91      0.92      1022\n",
      "\n",
      "Confusion matrix [tn, fp; fn, tp]:\n",
      "[[922  50]\n",
      " [ 40  10]]\n",
      "Test ROC AUC (prob-based): 0.786\n",
      "Test Average Precision:    0.151\n"
     ]
    }
   ],
   "source": [
    "# Evaluate once on the test set using the chosen validation threshold\n",
    "\n",
    "# Compute test probabilities\n",
    "y_proba_test = best_rf.predict_proba(X_test)[:, 1]\n",
    "y_pred_test = (y_proba_test >= best_t).astype(int)\n",
    "\n",
    "print(\"Test report at chosen threshold\")\n",
    "print(classification_report(y_test, y_pred_test))\n",
    "\n",
    "print(\"Confusion matrix [tn, fp; fn, tp]:\")\n",
    "print(confusion_matrix(y_test, y_pred_test))\n",
    "\n",
    "print(f\"Test ROC AUC (prob-based): {roc_auc_score(y_test, y_proba_test):.3f}\")\n",
    "print(f\"Test Average Precision:    {average_precision_score(y_test, y_proba_test):.3f}\")\n",
    "\n"
   ]
  },
  {
   "cell_type": "markdown",
   "id": "9008464a",
   "metadata": {},
   "source": "at 0.45, the model catches more stroke cases and misses fewer, with extra false alarms that I can handle in a screening setting."
  },
  {
   "cell_type": "code",
   "execution_count": 24,
   "id": "460c03ac",
   "metadata": {},
   "outputs": [
    {
     "data": {
      "text/html": [
       "<div>\n",
       "<style scoped>\n",
       "    .dataframe tbody tr th:only-of-type {\n",
       "        vertical-align: middle;\n",
       "    }\n",
       "\n",
       "    .dataframe tbody tr th {\n",
       "        vertical-align: top;\n",
       "    }\n",
       "\n",
       "    .dataframe thead th {\n",
       "        text-align: right;\n",
       "    }\n",
       "</style>\n",
       "<table border=\"1\" class=\"dataframe\">\n",
       "  <thead>\n",
       "    <tr style=\"text-align: right;\">\n",
       "      <th></th>\n",
       "      <th>threshold</th>\n",
       "      <th>precision</th>\n",
       "      <th>recall</th>\n",
       "      <th>f1</th>\n",
       "      <th>roc_auc</th>\n",
       "      <th>avg_precision</th>\n",
       "    </tr>\n",
       "  </thead>\n",
       "  <tbody>\n",
       "    <tr>\n",
       "      <th>test@0.50</th>\n",
       "      <td>0.50</td>\n",
       "      <td>0.188</td>\n",
       "      <td>0.18</td>\n",
       "      <td>0.184</td>\n",
       "      <td>0.786</td>\n",
       "      <td>0.151</td>\n",
       "    </tr>\n",
       "    <tr>\n",
       "      <th>test@best_0.45</th>\n",
       "      <td>0.45</td>\n",
       "      <td>0.167</td>\n",
       "      <td>0.20</td>\n",
       "      <td>0.182</td>\n",
       "      <td>0.786</td>\n",
       "      <td>0.151</td>\n",
       "    </tr>\n",
       "  </tbody>\n",
       "</table>\n",
       "</div>"
      ],
      "text/plain": [
       "                threshold  precision  recall     f1  roc_auc  avg_precision\n",
       "test@0.50            0.50      0.188    0.18  0.184    0.786          0.151\n",
       "test@best_0.45       0.45      0.167    0.20  0.182    0.786          0.151"
      ]
     },
     "execution_count": 24,
     "metadata": {},
     "output_type": "execute_result"
    }
   ],
   "source": [
    "# Create a small table comparing test metrics at 0.50 and at the chosen threshold\n",
    "def row_metrics(y_true, y_proba, thr):\n",
    "    y_pred = (y_proba >= thr).astype(int)\n",
    "    precision, recall, f1, _ = precision_recall_fscore_support(\n",
    "        y_true, y_pred, average=\"binary\", zero_division=0\n",
    "    )\n",
    "    return {\n",
    "        \"threshold\": round(thr, 3),\n",
    "        \"precision\": round(precision, 3),\n",
    "        \"recall\": round(recall, 3),\n",
    "        \"f1\": round(f1, 3),\n",
    "        \"roc_auc\": round(roc_auc_score(y_true, y_proba), 3),\n",
    "        \"avg_precision\": round(average_precision_score(y_true, y_proba), 3)\n",
    "    }\n",
    "\n",
    "tbl = pd.DataFrame([\n",
    "    row_metrics(y_test, y_proba_test, 0.50),\n",
    "    row_metrics(y_test, y_proba_test, best_t)\n",
    "], index=[\"test@0.50\", f\"test@best_{round(best_t,3)}\"])\n",
    "\n",
    "tbl\n"
   ]
  },
  {
   "cell_type": "markdown",
   "id": "c9a3c961",
   "metadata": {},
   "source": [
    "I keep a threshold of 0.25 because on the test set it raises recall while keeping precision acceptable for screening, which is the tradeoff I want."
   ]
  },
  {
   "cell_type": "markdown",
   "id": "595ece1e",
   "metadata": {},
   "source": "## Conclusion\n\nIn this project, I built a machine learning model to predict the likelihood of stroke using patient health and lifestyle information. The dataset was highly imbalanced, only about 5% of cases involved a stroke. I used SMOTE oversampling to give the model more stroke examples to learn from.\n\nI tested several models: Logistic Regression, Decision Tree, Random Forest, and XGBoost. Random Forest and XGBoost gave the best results, with XGBoost performing slightly better overall.\n\nBecause predicting strokes is a high-stakes problem, I explored lowering the decision threshold to increase recall. At the standard 0.50 threshold, the model caught only 16% of strokes. By lowering it to 0.25, recall rose to 34% while keeping precision roughly the same. This trade-off means the model may give more false positives, but it reduces the number of missed strokes, which is often the priority in healthcare.\n\n**Final choice:** XGBoost with a 0.45 decision threshold. This combination provided a good balance between recall and precision for stroke prediction and demonstrates how model selection and threshold tuning can be used to improve performance in imbalanced medical datasets.\n\n\nI use this as a screening aid, not medical advice. I tuned the model for higher recall because missing a positive case is costly. A positive means follow up, not a diagnosis. The data can carry bias from features like gender or work type, so I review results with care. Before any real use, I would check probability calibration on fresh data and monitor drift over time."
  },
  {
   "cell_type": "markdown",
   "metadata": {},
   "source": [
    "# Final takeaways\n",
    "\n",
    "- Random Forest is my final model. It gives strong ROC AUC and solid F1.\n",
    "- Recall for stroke is the hard part because the positive class is rare. Threshold tuning helps if the goal is to flag more possible cases.\n",
    "- Age is the top driver, with work type, residence type, BMI, heart disease, and glucose also helping.\n",
    "- In a real setting I would bring in more positive cases or use focused sampling to raise recall without losing too much precision.\n"
   ]
  },
  {
   "cell_type": "markdown",
   "metadata": {},
   "source": "# Final Conclusion\n\nMy goal was to predict who might be at higher risk of stroke using basic health and demographic data. I tried several models and kept the Random Forest as the final choice because it gave the strongest results in cross-validation.\n\n**Final model performance:**\n- Cross-validation: F1 ≈ 0.959, ROC AUC ≈ 0.993.\n- Test set (threshold 0.50): accuracy ≈ 92%, precision ≈ 0.19, recall ≈ 0.18 for stroke cases, ROC AUC ≈ 0.786.\n- Test set (threshold 0.45): accuracy ≈ 91%, precision ≈ 0.17, recall ≈ 0.20 for stroke cases, ROC AUC ≈ 0.786.\n- Confusion matrix at threshold 0.45: TN = 922, FP = 50, FN = 40, TP = 10.\n\n**Interpretation:**\n- Age is the strongest driver of predictions.\n- Other useful predictors include work type, residence type, BMI, heart disease, and glucose level.\n- The main challenge is class imbalance. Even with high ROC AUC, recall for stroke cases stays low. Lowering the threshold raises recall but reduces precision.\n\n**Real-world takeaway:**\nModels like this could help flag patients for additional screening or lifestyle counseling. However, in a real healthcare setting I would seek more balanced data or use targeted sampling to improve recall while keeping false alarms at a manageable level.\n\n**Limitations and next steps**\n- The main limitation is low recall for stroke cases at the default threshold. I observed recall around 0.18 to 0.20 on the test set.\n- This is common in rare event prediction even when ROC AUC is high.\n- What I would do next:\n - Lower the decision threshold to increase recall and accept more false positives.\n - Use class weights or focused resampling to make the model care more about stroke cases.\n - Bring in more positive cases or richer clinical features to improve signal.\n"
  }
 ],
 "metadata": {
  "kernelspec": {
   "display_name": "base",
   "language": "python",
   "name": "python3"
  },
  "language_info": {
   "codemirror_mode": {
    "name": "ipython",
    "version": 3
   },
   "file_extension": ".py",
   "mimetype": "text/x-python",
   "name": "python",
   "nbconvert_exporter": "python",
   "pygments_lexer": "ipython3",
   "version": "3.12.7"
  }
 },
 "nbformat": 4,
 "nbformat_minor": 5
}